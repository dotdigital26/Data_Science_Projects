{
  "nbformat": 4,
  "nbformat_minor": 0,
  "metadata": {
    "colab": {
      "name": "CodeAgainstHate.ipynb",
      "provenance": [],
      "collapsed_sections": [],
      "authorship_tag": "ABX9TyPnrYgeLsxkW+MUR/73YBhr",
      "include_colab_link": true
    },
    "kernelspec": {
      "name": "python3",
      "display_name": "Python 3"
    },
    "language_info": {
      "name": "python"
    }
  },
  "cells": [
    {
      "cell_type": "markdown",
      "metadata": {
        "id": "view-in-github",
        "colab_type": "text"
      },
      "source": [
        "<a href=\"https://colab.research.google.com/github/dotdigital26/Data_Science_Projects/blob/master/CodeAgainstHate.ipynb\" target=\"_parent\"><img src=\"https://colab.research.google.com/assets/colab-badge.svg\" alt=\"Open In Colab\"/></a>"
      ]
    },
    {
      "cell_type": "code",
      "metadata": {
        "id": "jThI0BH9AoMc"
      },
      "source": [
        "import tweepy\n",
        "from sqlite3 import connect\n",
        "from os.path import isfile\n",
        "from os import access, R_OK\n",
        "from sys import exit\n",
        "\n",
        "db_file = 'tweets.db'\n",
        "\n",
        "# More here https://apps.twitter.com\n",
        "consumer_key = 'HOaIaYGFENEX89xeEf74K7igF'\n",
        "consumer_secret = 'pdoFB5brCIrTnYXVYi7TNBvpJLdZuggCJNbGNoECMPEM1d12c8'\n",
        "access_token = '1268078914259345409-wo0Yaqjt11o2Hpa4C5hr4Q70ZAYSoG'\n",
        "access_token_secret = 'Gyewe2Vbig23budKhMy5xAFD1TQ6A1MwuP8GtXe2N2TQk'\n",
        "\n",
        "def oauth_authenticate():\n",
        "  auth = tweepy.OAuthHandler(consumer_key, consumer_secret)\n",
        "  auth.set_access_token(access_token, access_token_secret)\n",
        "  return tweepy.API(auth)\n",
        "\n",
        "def db_file_exists(path):\n",
        "  return isfile(path) and access(path, R_OK)\n",
        "\n",
        "def db_create(sqlite_file):\n",
        "  conn = connect(sqlite_file)\n",
        "  create_table =  'CREATE TABLE tweets ('\n",
        "  # Could be used for https://twitter.com/statuses/<status_id>\n",
        "  create_table += 'status_id INTEGER PRIMARY KEY, '\n",
        "  create_table += 'created_at DATETIME, '\n",
        "  create_table += 'screen_name VARCHAR(30), '\n",
        "  create_table += 'tweet VARCHAR(255)'\n",
        "  create_table += ')'\n",
        "\n",
        "  conn.cursor().execute(create_table)\n",
        "  conn.commit()\n",
        "  conn.close()\n",
        "\n",
        "def db_connect(sqlite_file):\n",
        "  return connect(sqlite_file)\n",
        "\n",
        "\n",
        "class MyStreamListener(tweepy.StreamListener):\n",
        "\n",
        "  def on_status(self, status):\n",
        "    status_id = status.id\n",
        "    created_at = status.created_at\n",
        "    screen_name = status.user.screen_name\n",
        "    tweet = status.text\n",
        "\n",
        "    print(str(created_at) + ' ' + '<@' + screen_name + '> ' + tweet)\n",
        "\n",
        "    conn = db_connect(db_file)\n",
        "    query = \"INSERT INTO tweets(status_id, created_at, screen_name, tweet) VALUES (?, ?, ?, ?)\"\n",
        "    conn.cursor().execute(query, (status_id, created_at, screen_name, tweet))\n",
        "    conn.commit()\n",
        "    conn.close()\n",
        "\n",
        "\n",
        "if __name__ == \"__main__\":\n",
        "  # User authentication with OAuth\n",
        "  api = oauth_authenticate()\n",
        "\n",
        "  # Create the database file, if missing\n",
        "  if not db_file_exists(db_file):\n",
        "    db_create(db_file)\n",
        "\n",
        "  # Listen for the user stream\n",
        "  myStreamListener = MyStreamListener()\n",
        "  myStream = tweepy.Stream(auth=api.auth, listener=myStreamListener)\n",
        "  try:\n",
        "    myStream.userstream()\n",
        "    myStream.filter(track=['BBN']) # For debugging only\n",
        "  except KeyboardInterrupt:\n",
        "    print('Program terminated.')\n",
        "    exit(0)\n",
        "  except AttributeError:\n",
        "    pass"
      ],
      "execution_count": null,
      "outputs": []
    }
  ]
}